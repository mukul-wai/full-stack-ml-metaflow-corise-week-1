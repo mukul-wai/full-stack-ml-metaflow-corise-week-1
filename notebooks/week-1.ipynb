{
 "cells": [
  {
   "attachments": {},
   "cell_type": "markdown",
   "id": "923b9a08-9b88-424d-9512-4fef84a51b4f",
   "metadata": {},
   "source": [
    "# Week 1: Full Stack Machine Learning and Delivering Business Value\n"
   ]
  },
  {
   "attachments": {},
   "cell_type": "markdown",
   "id": "8ac9e9a4",
   "metadata": {},
   "source": [
    "___\n",
    "**Learning goals:** Understand\n",
    "\n",
    "- the problem space: business, organizational/cultural, and technical concerns\n",
    "- the dataflow paradigm and DAGs\n",
    "- the basics of Metaflow\n",
    "___"
   ]
  },
  {
   "attachments": {},
   "cell_type": "markdown",
   "id": "6155d680",
   "metadata": {},
   "source": [
    "## How can ML create business value?"
   ]
  },
  {
   "attachments": {},
   "cell_type": "markdown",
   "id": "d7f7036e",
   "metadata": {},
   "source": [
    "![bv1](../img/biz-value-1.png)"
   ]
  },
  {
   "attachments": {},
   "cell_type": "markdown",
   "id": "4466fee2",
   "metadata": {},
   "source": [
    "![bv1](../img/biz-value-2.png)"
   ]
  },
  {
   "attachments": {},
   "cell_type": "markdown",
   "id": "b4722f3b",
   "metadata": {},
   "source": [
    "![bv1](../img/biz-value-3.png)"
   ]
  },
  {
   "attachments": {},
   "cell_type": "markdown",
   "id": "00a50d21",
   "metadata": {},
   "source": [
    "## Who does ML in organizations?\n",
    "\n",
    "- A _data scientist_ or _machine learning researcher_ develops and prototypes machine learning or other data science models.\n",
    "- A _machine learning engineer_ implements the model in a scalable, production- ready way.\n",
    "- A _data engineer_ sets up data pipelines for input and output data, including data transformations.\n",
    "- A _DevOps engineer_ deploys applications in production and makes sure that all the systems stay up and running flawlessly.\n",
    "- An _application engineer_ integrates the model with other business components, such as web applications, which are the consumers of the model.\n",
    "- An _infrastructure_ or _platform engineer_ provides general pieces of infrastructure, such as data warehouses or compute platforms, for many applications to use.\n",
    "\n",
    "In addition to this technical team, the data science project may have involvement from _business owners_, who understand the business context of the application; _product managers_, who map the business context to technical requirements; and _project/program managers_ who help to coordinate cross-functional collaboration."
   ]
  },
  {
   "cell_type": "markdown",
   "id": "77f45945-20ee-4541-a8e7-15f4e9bc368f",
   "metadata": {},
   "source": [
    "## The Modern Data Stack for Production ML"
   ]
  },
  {
   "cell_type": "markdown",
   "id": "a6ef009c-4e06-4078-8a69-1b175f7f6e5d",
   "metadata": {},
   "source": [
    "There are many layers to the modern ML stack. Consider a not atypical process of a data scientist moving their models from prototype to production:\n",
    "\n",
    "- You'll commonly use notebooks and .csv's for prototype → when moving to prod, you may need integrate with data warehouse or directly pull data from s3 every time you execute a model; or train on streaming data;\n",
    "- Then perhaps you'll need to store your model and artifacts in a data warehouse/lake and possibly so every time you run it;\n",
    "– In this case, we see the data/storage concern interacting with the model versioning question;\n",
    "- Then perhaps your data volume grows → you need a larger instance so we burst to the cloud; what happens to libraries? How do you migrate your state?\n",
    "- Then let’s say you need to train on GPUs but not for data processing: GPUs are expensive so we want to be able to send the training task there but not the rest → (data) workflows are a useful abstraction here.\n",
    "- and much more...\n",
    "\n",
    "\n",
    "So what does the modern stack look like? The following is from [Effective Data Science Infrastructure](https://www.manning.com/books/effective-data-science-infrastructure), published by Manning."
   ]
  },
  {
   "cell_type": "markdown",
   "id": "52dedc06-05f9-4ad5-bfb1-cd524664ff89",
   "metadata": {},
   "source": [
    "![flow0](../img/modern-ML-stack.jpg)"
   ]
  },
  {
   "cell_type": "markdown",
   "id": "94a1bcc2-b599-48c3-91b8-f13b6606c743",
   "metadata": {},
   "source": [
    "Although they are all incredibly important, data scientists should NOT be expected to be experts at all of them:"
   ]
  },
  {
   "cell_type": "markdown",
   "id": "e7b9806d-3e05-46d4-9b76-b707cad73198",
   "metadata": {},
   "source": [
    "![flow0](../img/data-triangle.jpg)"
   ]
  },
  {
   "cell_type": "markdown",
   "id": "4293f9fe-4d23-4593-ad69-2c563216d279",
   "metadata": {},
   "source": [
    "Let's have a look at some of what data scientists do to interact with the infrastructural layers:"
   ]
  },
  {
   "cell_type": "markdown",
   "id": "1a54a906-aeb2-4a96-b949-2b035a8faf50",
   "metadata": {},
   "source": [
    "![flow0](../img/ds-workflow.jpg)"
   ]
  },
  {
   "cell_type": "markdown",
   "id": "7ba509ed-e64e-4940-bc11-f5b41a75c017",
   "metadata": {},
   "source": [
    "And let's not forget that this is an iterative process!"
   ]
  },
  {
   "cell_type": "markdown",
   "id": "1b0d09cc-addf-465c-85bf-881c0c1c82f8",
   "metadata": {},
   "source": [
    "![flow0](../img/data-science-iteration.jpg)"
   ]
  },
  {
   "attachments": {},
   "cell_type": "markdown",
   "id": "4550b698-d7cd-426a-84e4-5ccce7466d72",
   "metadata": {},
   "source": [
    "## The dataflow paradigm and DAGs: Orchestrating your machine learning workflows"
   ]
  },
  {
   "cell_type": "markdown",
   "id": "0aa70b76-a718-4544-9ddb-62f977262242",
   "metadata": {},
   "source": [
    "The complexity of ML workflows can be become complicated very quickly. To avoid a jungle of data pipelines and models, we need organizational principles for our workflows and _directed acyclic graphs_ have become a standard for this:"
   ]
  },
  {
   "cell_type": "markdown",
   "id": "5e7e7e33-cd2e-4834-9397-3d6fb03e9793",
   "metadata": {},
   "source": [
    "<img src=\"../img/flow_ex_0.png\" alt=\"DAG\" style=\"width: 400px;\"/>"
   ]
  },
  {
   "cell_type": "markdown",
   "id": "f849a81d-20c8-4337-8050-b69f328cc9fe",
   "metadata": {},
   "source": [
    "DAGs can often be more complicated:"
   ]
  },
  {
   "cell_type": "markdown",
   "id": "832a624d-6cd3-4dd7-b98a-d79439c9a7b7",
   "metadata": {},
   "source": [
    "![flow0](../img/flow_ex_1.png)"
   ]
  },
  {
   "attachments": {},
   "cell_type": "markdown",
   "id": "b73bfd6e-0ba1-48c4-a747-a92b837afd1a",
   "metadata": {},
   "source": [
    "### A Word on the Basics of Metaflow\n",
    "\n",
    "> Metaflow follows the dataflow paradigm which models a program as a directed graph of operations. This is a natural paradigm for expressing data processing pipelines, machine learning in particular. We call the graph of operations a flow. You define the operations, called steps, which are nodes of the graph and contain transitions to the next steps, which serve as edges.\n",
    "\n",
    "> Metaflow sets some constraints on the structure of the graph. For starters, every flow needs a step called start and a step called end. An execution of the flow, which we call a run, starts at start. The run is successful if the final end step finishes successfully. What happens between start and end is up to you.\n",
    "\n",
    "-- The [Metaflow docs](https://docs.metaflow.org/metaflow/basics)."
   ]
  },
  {
   "attachments": {},
   "cell_type": "markdown",
   "id": "d1c7685a-982d-41e9-91d2-1d947b958df7",
   "metadata": {},
   "source": [
    "## The Basics of Metaflow: Crafting Metaflows for Machine Learning!"
   ]
  },
  {
   "cell_type": "markdown",
   "id": "3ed0ab17-f71d-4e35-8862-346db0b1bbdb",
   "metadata": {},
   "source": [
    "ML flows can be broken down into steps, such as:\n",
    "\n",
    "- importing data\n",
    "- processing, wrangling, and/or transforming the data\n",
    "- data validation\n",
    "- model configuration\n",
    "- model training, and\n",
    "- model deployment.\n",
    "\n",
    "The first flow we write will be a template showing these steps.\n",
    "\n",
    "As stated above, in the spirit of not introducing more tools, we'll write our flows in notebook cells and we'll execute them using the command line in Jupyter Lab. Having said that, we encourage everybody to get comfortable writing Python scripts and using the command line as much as possible! Notebooks are wonderful for many things but not necessarily for writing and executing ML workflows.\n",
    "\n",
    "\n",
    "At the end of the day, modern data science applications are real software projects. Applying software engineering principles like structuring code as functions and modules is useful and hence as you get up to speed, you might find a modern IDE like Visual Studio Code quite convenient in writing your workflows. Don’t worry, it is still the same code running in flows as what you would write in notebooks, so there’s not much new to learn."
   ]
  },
  {
   "cell_type": "code",
   "execution_count": 1,
   "id": "e25950f2-13e6-4f33-a882-8f928b952b73",
   "metadata": {},
   "outputs": [
    {
     "name": "stdout",
     "output_type": "stream",
     "text": [
      "Overwriting ../flows/local/flow_template.py\n"
     ]
    }
   ],
   "source": [
    "%%writefile ../flows/local/flow_template.py\n",
    "\n",
    "\"\"\"\n",
    "\n",
    "Template for writing Metaflows\n",
    "\n",
    "\"\"\"\n",
    "\n",
    "from metaflow import FlowSpec, step, current, card\n",
    "\n",
    "\n",
    "class Template_Flow(FlowSpec):\n",
    "    \"\"\"\n",
    "    Template for Metaflows.\n",
    "    You can choose which steps suit your workflow.\n",
    "    We have included the following common steps:\n",
    "    - Start\n",
    "    - Process data\n",
    "    - Data validation\n",
    "    - Model configuration\n",
    "    - Model training\n",
    "    - Model deployment\n",
    "    \"\"\"\n",
    "    @card\n",
    "    @step\n",
    "    def start(self):\n",
    "        \"\"\"\n",
    "        Start Step for a Flow;\n",
    "        \"\"\"\n",
    "        print(\"flow name: %s\" % current.flow_name)\n",
    "        print(\"run id: %s\" % current.run_id)\n",
    "        print(\"username: %s\" % current.username)\n",
    "\n",
    "        # Call next step in DAG with self.next(...)\n",
    "        self.next(self.process_raw_data)\n",
    "\n",
    "    @step\n",
    "    def process_raw_data(self):\n",
    "        \"\"\"\n",
    "        Read and process data\n",
    "        \"\"\"\n",
    "        print(\"In this step, you'll read in and process your data\")\n",
    "\n",
    "        self.next(self.data_validation)\n",
    "\n",
    "    @step\n",
    "    def data_validation(self):\n",
    "        \"\"\"\n",
    "        Perform data validation\n",
    "        \"\"\"\n",
    "        print(\"In this step, you'll write your data validation code\")\n",
    "\n",
    "        self.next(self.get_model_config)\n",
    "\n",
    "    @step\n",
    "    def get_model_config(self):\n",
    "        \"\"\"\n",
    "        Configure model + hyperparams\n",
    "        \"\"\"\n",
    "        print(\"In this step, you'll configure your model + hyperparameters\")\n",
    "        self.next(self.train_model)\n",
    "\n",
    "    @step\n",
    "    def train_model(self):\n",
    "        \"\"\"\n",
    "        Train your model\n",
    "        \"\"\"\n",
    "        print(\"In this step, you'll train your model\")\n",
    "\n",
    "        self.next(self.deploy)\n",
    "\n",
    "    @step\n",
    "    def deploy(self):\n",
    "        \"\"\"\n",
    "        Deploy model\n",
    "        \"\"\"\n",
    "        print(\"In this step, you'll deploy your model\")\n",
    "\n",
    "        self.next(self.end)\n",
    "\n",
    "    @step\n",
    "    def end(self):\n",
    "        \"\"\"\n",
    "        DAG is done! Congrats!\n",
    "        \"\"\"\n",
    "        print('DAG ended! Woohoo!')\n",
    "\n",
    "\n",
    "if __name__ == '__main__':\n",
    "    Template_Flow()\n"
   ]
  },
  {
   "cell_type": "markdown",
   "id": "2ed676e5-0600-4b88-a4c1-e4780793ca3a",
   "metadata": {},
   "source": [
    "You can now run this flow by executing the following from the CLI:"
   ]
  },
  {
   "cell_type": "markdown",
   "id": "d0ac9c19-486c-4ce8-93e1-baef6eab08db",
   "metadata": {},
   "source": [
    "We can also (cheekily) execute from this NB using the handy iPython magic shBang (!):"
   ]
  },
  {
   "cell_type": "code",
   "execution_count": 2,
   "id": "8eff4783-4962-4422-8654-bb3d40abb1e6",
   "metadata": {},
   "outputs": [
    {
     "name": "stdout",
     "output_type": "stream",
     "text": [
      "\u001b[35m\u001b[1mMetaflow 2.7.21.4\u001b[0m\u001b[35m\u001b[22m executing \u001b[0m\u001b[31m\u001b[1mTemplate_Flow\u001b[0m\u001b[35m\u001b[22m\u001b[0m\u001b[35m\u001b[22m for \u001b[0m\u001b[31m\u001b[1muser:sandbox\u001b[0m\u001b[35m\u001b[22m\u001b[K\u001b[0m\u001b[35m\u001b[22m\u001b[0m\n",
      "\u001b[35m\u001b[22mValidating your flow...\u001b[K\u001b[0m\u001b[35m\u001b[22m\u001b[0m\n",
      "\u001b[32m\u001b[1m    The graph looks good!\u001b[K\u001b[0m\u001b[32m\u001b[1m\u001b[0m\n",
      "\u001b[35m\u001b[22mRunning pylint...\u001b[K\u001b[0m\u001b[35m\u001b[22m\u001b[0m\n",
      "\u001b[32m\u001b[1m    Pylint is happy!\u001b[K\u001b[0m\u001b[32m\u001b[1m\u001b[0m\n",
      "\u001b[35m2023-05-01 02:44:02.485 \u001b[0m\u001b[1mWorkflow starting (run-id 2), see it in the UI at https://ui-pw-789711110.outerbounds.dev/Template_Flow/2\u001b[0m\n",
      "\u001b[35m2023-05-01 02:44:02.698 \u001b[0m\u001b[32m[2/start/10 (pid 1441)] \u001b[0m\u001b[1mTask is starting.\u001b[0m\n",
      "\u001b[35m2023-05-01 02:44:04.372 \u001b[0m\u001b[32m[2/start/10 (pid 1441)] \u001b[0m\u001b[22mflow name: Template_Flow\u001b[0m\n",
      "\u001b[35m2023-05-01 02:44:07.311 \u001b[0m\u001b[32m[2/start/10 (pid 1441)] \u001b[0m\u001b[22mrun id: 2\u001b[0m\n",
      "\u001b[35m2023-05-01 02:44:07.311 \u001b[0m\u001b[32m[2/start/10 (pid 1441)] \u001b[0m\u001b[22musername: sandbox\u001b[0m\n",
      "\u001b[35m2023-05-01 02:44:07.541 \u001b[0m\u001b[32m[2/start/10 (pid 1441)] \u001b[0m\u001b[1mTask finished successfully.\u001b[0m\n",
      "\u001b[35m2023-05-01 02:44:07.893 \u001b[0m\u001b[32m[2/process_raw_data/11 (pid 1540)] \u001b[0m\u001b[1mTask is starting.\u001b[0m\n",
      "\u001b[35m2023-05-01 02:44:09.514 \u001b[0m\u001b[32m[2/process_raw_data/11 (pid 1540)] \u001b[0m\u001b[22mIn this step, you'll read in and process your data\u001b[0m\n",
      "\u001b[35m2023-05-01 02:44:10.366 \u001b[0m\u001b[32m[2/process_raw_data/11 (pid 1540)] \u001b[0m\u001b[1mTask finished successfully.\u001b[0m\n",
      "\u001b[35m2023-05-01 02:44:10.688 \u001b[0m\u001b[32m[2/data_validation/12 (pid 1597)] \u001b[0m\u001b[1mTask is starting.\u001b[0m\n",
      "\u001b[35m2023-05-01 02:44:12.178 \u001b[0m\u001b[32m[2/data_validation/12 (pid 1597)] \u001b[0m\u001b[22mIn this step, you'll write your data validation code\u001b[0m\n",
      "\u001b[35m2023-05-01 02:44:13.024 \u001b[0m\u001b[32m[2/data_validation/12 (pid 1597)] \u001b[0m\u001b[1mTask finished successfully.\u001b[0m\n",
      "\u001b[35m2023-05-01 02:44:13.366 \u001b[0m\u001b[32m[2/get_model_config/13 (pid 1654)] \u001b[0m\u001b[1mTask is starting.\u001b[0m\n",
      "\u001b[35m2023-05-01 02:44:14.857 \u001b[0m\u001b[32m[2/get_model_config/13 (pid 1654)] \u001b[0m\u001b[22mIn this step, you'll configure your model + hyperparameters\u001b[0m\n",
      "\u001b[35m2023-05-01 02:44:15.713 \u001b[0m\u001b[32m[2/get_model_config/13 (pid 1654)] \u001b[0m\u001b[1mTask finished successfully.\u001b[0m\n",
      "\u001b[35m2023-05-01 02:44:16.000 \u001b[0m\u001b[32m[2/train_model/14 (pid 1711)] \u001b[0m\u001b[1mTask is starting.\u001b[0m\n",
      "\u001b[35m2023-05-01 02:44:17.632 \u001b[0m\u001b[32m[2/train_model/14 (pid 1711)] \u001b[0m\u001b[22mIn this step, you'll train your model\u001b[0m\n",
      "\u001b[35m2023-05-01 02:44:18.620 \u001b[0m\u001b[32m[2/train_model/14 (pid 1711)] \u001b[0m\u001b[1mTask finished successfully.\u001b[0m\n",
      "\u001b[35m2023-05-01 02:44:18.912 \u001b[0m\u001b[32m[2/deploy/15 (pid 1768)] \u001b[0m\u001b[1mTask is starting.\u001b[0m\n",
      "\u001b[35m2023-05-01 02:44:20.479 \u001b[0m\u001b[32m[2/deploy/15 (pid 1768)] \u001b[0m\u001b[22mIn this step, you'll deploy your model\u001b[0m\n",
      "\u001b[35m2023-05-01 02:44:21.392 \u001b[0m\u001b[32m[2/deploy/15 (pid 1768)] \u001b[0m\u001b[1mTask finished successfully.\u001b[0m\n",
      "\u001b[35m2023-05-01 02:44:21.648 \u001b[0m\u001b[32m[2/end/16 (pid 1825)] \u001b[0m\u001b[1mTask is starting.\u001b[0m\n",
      "\u001b[35m2023-05-01 02:44:23.175 \u001b[0m\u001b[32m[2/end/16 (pid 1825)] \u001b[0m\u001b[22mDAG ended! Woohoo!\u001b[0m\n",
      "\u001b[35m2023-05-01 02:44:24.181 \u001b[0m\u001b[32m[2/end/16 (pid 1825)] \u001b[0m\u001b[1mTask finished successfully.\u001b[0m\n",
      "\u001b[35m2023-05-01 02:44:24.326 \u001b[0m\u001b[1mDone! See the run in the UI at https://ui-pw-789711110.outerbounds.dev/Template_Flow/2\u001b[0m\n"
     ]
    }
   ],
   "source": [
    "! python ../flows/local/flow_template.py run"
   ]
  },
  {
   "cell_type": "markdown",
   "id": "727715f2-98e2-461f-9841-e019c3a66dba",
   "metadata": {},
   "source": [
    "Success! But what are all these outputs? I'm glad that you asked!"
   ]
  },
  {
   "cell_type": "markdown",
   "id": "20f0f3cb-4faf-452d-8a81-e457f01c286d",
   "metadata": {},
   "source": [
    "![flow0](../img/mf_output.png)"
   ]
  },
  {
   "cell_type": "markdown",
   "id": "3594071a-8dbf-4e42-b488-f7d53cb54152",
   "metadata": {},
   "source": [
    "- **Timestamp** denotes when the line was output.\n",
    "- The information inside the square brackets identifies a **task**.\n",
    "- Every Metaflow run gets a unique ID, a **run ID**.\n",
    "- A run executes the steps in order. The step that is currently being executed is denoted by **step name**.\n",
    "- A step may spawn multiple tasks which are identified by a **task ID**.\n",
    "- The combination of a flow name, run ID, step name, and a task ID,uniquely identify a task in your Metaflow environment, amongst all runs of any flows. Here, the flow name is omitted since it is the same for all lines. We call this globally unique identifier a **pathspec**.\n",
    "- Each task is executed by a separate process in your operating system, identified by a **process ID** aka _pid_. You can use any operating system level monitoring tools such as top to monitor resource consumption of a task based on its process ID.\n",
    "- After the square bracket comes a **log message** that may be a message output by Metaflow itself, like “Task is starting” in this example, or a line output by your code."
   ]
  },
  {
   "cell_type": "markdown",
   "id": "783703ae-daa1-4126-97cb-afcbc2511cd8",
   "metadata": {},
   "source": [
    "### Metaflow cards"
   ]
  },
  {
   "cell_type": "markdown",
   "id": "b495bbe1-9619-4910-b693-365ebfb840e0",
   "metadata": {},
   "source": [
    "We can use MF cards to visualize aspects of our flow. In this case, there's not much to check out but we **can** see the DAG by using the CLI as follows:"
   ]
  },
  {
   "cell_type": "markdown",
   "id": "5d04417d-4786-405c-845c-28348f8afed1",
   "metadata": {},
   "source": [
    "```\n",
    "python flows/local/flow_template.py card view start\n",
    "```"
   ]
  },
  {
   "attachments": {},
   "cell_type": "markdown",
   "id": "d386e4dd",
   "metadata": {},
   "source": [
    "## Write your first data science flow"
   ]
  },
  {
   "attachments": {},
   "cell_type": "markdown",
   "id": "6bbf451b",
   "metadata": {},
   "source": [
    "### EDA on dataset etc...."
   ]
  },
  {
   "cell_type": "code",
   "execution_count": 3,
   "id": "ecba873e",
   "metadata": {},
   "outputs": [
    {
     "data": {
      "text/html": [
       "<div>\n",
       "<style scoped>\n",
       "    .dataframe tbody tr th:only-of-type {\n",
       "        vertical-align: middle;\n",
       "    }\n",
       "\n",
       "    .dataframe tbody tr th {\n",
       "        vertical-align: top;\n",
       "    }\n",
       "\n",
       "    .dataframe thead th {\n",
       "        text-align: right;\n",
       "    }\n",
       "</style>\n",
       "<table border=\"1\" class=\"dataframe\">\n",
       "  <thead>\n",
       "    <tr style=\"text-align: right;\">\n",
       "      <th></th>\n",
       "      <th>PassengerId</th>\n",
       "      <th>Survived</th>\n",
       "      <th>Pclass</th>\n",
       "      <th>Name</th>\n",
       "      <th>Sex</th>\n",
       "      <th>Age</th>\n",
       "      <th>SibSp</th>\n",
       "      <th>Parch</th>\n",
       "      <th>Ticket</th>\n",
       "      <th>Fare</th>\n",
       "      <th>Cabin</th>\n",
       "      <th>Embarked</th>\n",
       "    </tr>\n",
       "  </thead>\n",
       "  <tbody>\n",
       "    <tr>\n",
       "      <th>0</th>\n",
       "      <td>1</td>\n",
       "      <td>0</td>\n",
       "      <td>3</td>\n",
       "      <td>Braund, Mr. Owen Harris</td>\n",
       "      <td>male</td>\n",
       "      <td>22.0</td>\n",
       "      <td>1</td>\n",
       "      <td>0</td>\n",
       "      <td>A/5 21171</td>\n",
       "      <td>7.2500</td>\n",
       "      <td>NaN</td>\n",
       "      <td>S</td>\n",
       "    </tr>\n",
       "    <tr>\n",
       "      <th>1</th>\n",
       "      <td>2</td>\n",
       "      <td>1</td>\n",
       "      <td>1</td>\n",
       "      <td>Cumings, Mrs. John Bradley (Florence Briggs Th...</td>\n",
       "      <td>female</td>\n",
       "      <td>38.0</td>\n",
       "      <td>1</td>\n",
       "      <td>0</td>\n",
       "      <td>PC 17599</td>\n",
       "      <td>71.2833</td>\n",
       "      <td>C85</td>\n",
       "      <td>C</td>\n",
       "    </tr>\n",
       "    <tr>\n",
       "      <th>2</th>\n",
       "      <td>3</td>\n",
       "      <td>1</td>\n",
       "      <td>3</td>\n",
       "      <td>Heikkinen, Miss. Laina</td>\n",
       "      <td>female</td>\n",
       "      <td>26.0</td>\n",
       "      <td>0</td>\n",
       "      <td>0</td>\n",
       "      <td>STON/O2. 3101282</td>\n",
       "      <td>7.9250</td>\n",
       "      <td>NaN</td>\n",
       "      <td>S</td>\n",
       "    </tr>\n",
       "    <tr>\n",
       "      <th>3</th>\n",
       "      <td>4</td>\n",
       "      <td>1</td>\n",
       "      <td>1</td>\n",
       "      <td>Futrelle, Mrs. Jacques Heath (Lily May Peel)</td>\n",
       "      <td>female</td>\n",
       "      <td>35.0</td>\n",
       "      <td>1</td>\n",
       "      <td>0</td>\n",
       "      <td>113803</td>\n",
       "      <td>53.1000</td>\n",
       "      <td>C123</td>\n",
       "      <td>S</td>\n",
       "    </tr>\n",
       "    <tr>\n",
       "      <th>4</th>\n",
       "      <td>5</td>\n",
       "      <td>0</td>\n",
       "      <td>3</td>\n",
       "      <td>Allen, Mr. William Henry</td>\n",
       "      <td>male</td>\n",
       "      <td>35.0</td>\n",
       "      <td>0</td>\n",
       "      <td>0</td>\n",
       "      <td>373450</td>\n",
       "      <td>8.0500</td>\n",
       "      <td>NaN</td>\n",
       "      <td>S</td>\n",
       "    </tr>\n",
       "  </tbody>\n",
       "</table>\n",
       "</div>"
      ],
      "text/plain": [
       "   PassengerId  Survived  Pclass  \\\n",
       "0            1         0       3   \n",
       "1            2         1       1   \n",
       "2            3         1       3   \n",
       "3            4         1       1   \n",
       "4            5         0       3   \n",
       "\n",
       "                                                Name     Sex   Age  SibSp  \\\n",
       "0                            Braund, Mr. Owen Harris    male  22.0      1   \n",
       "1  Cumings, Mrs. John Bradley (Florence Briggs Th...  female  38.0      1   \n",
       "2                             Heikkinen, Miss. Laina  female  26.0      0   \n",
       "3       Futrelle, Mrs. Jacques Heath (Lily May Peel)  female  35.0      1   \n",
       "4                           Allen, Mr. William Henry    male  35.0      0   \n",
       "\n",
       "   Parch            Ticket     Fare Cabin Embarked  \n",
       "0      0         A/5 21171   7.2500   NaN        S  \n",
       "1      0          PC 17599  71.2833   C85        C  \n",
       "2      0  STON/O2. 3101282   7.9250   NaN        S  \n",
       "3      0            113803  53.1000  C123        S  \n",
       "4      0            373450   8.0500   NaN        S  "
      ]
     },
     "execution_count": 3,
     "metadata": {},
     "output_type": "execute_result"
    }
   ],
   "source": [
    "import pandas as pd\n",
    "import matplotlib.pyplot as plt\n",
    "import seaborn as sns\n",
    "sns.set()\n",
    "\n",
    "df = pd.read_csv('../data/titanic.csv')\n",
    "df.head()"
   ]
  },
  {
   "cell_type": "code",
   "execution_count": 4,
   "id": "28d57c60",
   "metadata": {},
   "outputs": [
    {
     "name": "stdout",
     "output_type": "stream",
     "text": [
      "<class 'pandas.core.frame.DataFrame'>\n",
      "RangeIndex: 891 entries, 0 to 890\n",
      "Data columns (total 12 columns):\n",
      " #   Column       Non-Null Count  Dtype  \n",
      "---  ------       --------------  -----  \n",
      " 0   PassengerId  891 non-null    int64  \n",
      " 1   Survived     891 non-null    int64  \n",
      " 2   Pclass       891 non-null    int64  \n",
      " 3   Name         891 non-null    object \n",
      " 4   Sex          891 non-null    object \n",
      " 5   Age          714 non-null    float64\n",
      " 6   SibSp        891 non-null    int64  \n",
      " 7   Parch        891 non-null    int64  \n",
      " 8   Ticket       891 non-null    object \n",
      " 9   Fare         891 non-null    float64\n",
      " 10  Cabin        204 non-null    object \n",
      " 11  Embarked     889 non-null    object \n",
      "dtypes: float64(2), int64(5), object(5)\n",
      "memory usage: 83.7+ KB\n"
     ]
    }
   ],
   "source": [
    "df.info()"
   ]
  },
  {
   "cell_type": "code",
   "execution_count": 5,
   "id": "2e647794",
   "metadata": {},
   "outputs": [
    {
     "data": {
      "text/html": [
       "<div>\n",
       "<style scoped>\n",
       "    .dataframe tbody tr th:only-of-type {\n",
       "        vertical-align: middle;\n",
       "    }\n",
       "\n",
       "    .dataframe tbody tr th {\n",
       "        vertical-align: top;\n",
       "    }\n",
       "\n",
       "    .dataframe thead th {\n",
       "        text-align: right;\n",
       "    }\n",
       "</style>\n",
       "<table border=\"1\" class=\"dataframe\">\n",
       "  <thead>\n",
       "    <tr style=\"text-align: right;\">\n",
       "      <th></th>\n",
       "      <th>PassengerId</th>\n",
       "      <th>Survived</th>\n",
       "      <th>Pclass</th>\n",
       "      <th>Age</th>\n",
       "      <th>SibSp</th>\n",
       "      <th>Parch</th>\n",
       "      <th>Fare</th>\n",
       "    </tr>\n",
       "  </thead>\n",
       "  <tbody>\n",
       "    <tr>\n",
       "      <th>count</th>\n",
       "      <td>891.000000</td>\n",
       "      <td>891.000000</td>\n",
       "      <td>891.000000</td>\n",
       "      <td>714.000000</td>\n",
       "      <td>891.000000</td>\n",
       "      <td>891.000000</td>\n",
       "      <td>891.000000</td>\n",
       "    </tr>\n",
       "    <tr>\n",
       "      <th>mean</th>\n",
       "      <td>446.000000</td>\n",
       "      <td>0.383838</td>\n",
       "      <td>2.308642</td>\n",
       "      <td>29.699118</td>\n",
       "      <td>0.523008</td>\n",
       "      <td>0.381594</td>\n",
       "      <td>32.204208</td>\n",
       "    </tr>\n",
       "    <tr>\n",
       "      <th>std</th>\n",
       "      <td>257.353842</td>\n",
       "      <td>0.486592</td>\n",
       "      <td>0.836071</td>\n",
       "      <td>14.526497</td>\n",
       "      <td>1.102743</td>\n",
       "      <td>0.806057</td>\n",
       "      <td>49.693429</td>\n",
       "    </tr>\n",
       "    <tr>\n",
       "      <th>min</th>\n",
       "      <td>1.000000</td>\n",
       "      <td>0.000000</td>\n",
       "      <td>1.000000</td>\n",
       "      <td>0.420000</td>\n",
       "      <td>0.000000</td>\n",
       "      <td>0.000000</td>\n",
       "      <td>0.000000</td>\n",
       "    </tr>\n",
       "    <tr>\n",
       "      <th>25%</th>\n",
       "      <td>223.500000</td>\n",
       "      <td>0.000000</td>\n",
       "      <td>2.000000</td>\n",
       "      <td>20.125000</td>\n",
       "      <td>0.000000</td>\n",
       "      <td>0.000000</td>\n",
       "      <td>7.910400</td>\n",
       "    </tr>\n",
       "    <tr>\n",
       "      <th>50%</th>\n",
       "      <td>446.000000</td>\n",
       "      <td>0.000000</td>\n",
       "      <td>3.000000</td>\n",
       "      <td>28.000000</td>\n",
       "      <td>0.000000</td>\n",
       "      <td>0.000000</td>\n",
       "      <td>14.454200</td>\n",
       "    </tr>\n",
       "    <tr>\n",
       "      <th>75%</th>\n",
       "      <td>668.500000</td>\n",
       "      <td>1.000000</td>\n",
       "      <td>3.000000</td>\n",
       "      <td>38.000000</td>\n",
       "      <td>1.000000</td>\n",
       "      <td>0.000000</td>\n",
       "      <td>31.000000</td>\n",
       "    </tr>\n",
       "    <tr>\n",
       "      <th>max</th>\n",
       "      <td>891.000000</td>\n",
       "      <td>1.000000</td>\n",
       "      <td>3.000000</td>\n",
       "      <td>80.000000</td>\n",
       "      <td>8.000000</td>\n",
       "      <td>6.000000</td>\n",
       "      <td>512.329200</td>\n",
       "    </tr>\n",
       "  </tbody>\n",
       "</table>\n",
       "</div>"
      ],
      "text/plain": [
       "       PassengerId    Survived      Pclass         Age       SibSp  \\\n",
       "count   891.000000  891.000000  891.000000  714.000000  891.000000   \n",
       "mean    446.000000    0.383838    2.308642   29.699118    0.523008   \n",
       "std     257.353842    0.486592    0.836071   14.526497    1.102743   \n",
       "min       1.000000    0.000000    1.000000    0.420000    0.000000   \n",
       "25%     223.500000    0.000000    2.000000   20.125000    0.000000   \n",
       "50%     446.000000    0.000000    3.000000   28.000000    0.000000   \n",
       "75%     668.500000    1.000000    3.000000   38.000000    1.000000   \n",
       "max     891.000000    1.000000    3.000000   80.000000    8.000000   \n",
       "\n",
       "            Parch        Fare  \n",
       "count  891.000000  891.000000  \n",
       "mean     0.381594   32.204208  \n",
       "std      0.806057   49.693429  \n",
       "min      0.000000    0.000000  \n",
       "25%      0.000000    7.910400  \n",
       "50%      0.000000   14.454200  \n",
       "75%      0.000000   31.000000  \n",
       "max      6.000000  512.329200  "
      ]
     },
     "execution_count": 5,
     "metadata": {},
     "output_type": "execute_result"
    }
   ],
   "source": [
    "df.describe()"
   ]
  },
  {
   "cell_type": "code",
   "execution_count": 6,
   "id": "1936db7c",
   "metadata": {},
   "outputs": [
    {
     "data": {
      "image/png": "[encoded data removed]",
      "text/plain": [
       "<Figure size 640x480 with 1 Axes>"
      ]
     },
     "metadata": {},
     "output_type": "display_data"
    }
   ],
   "source": [
    "sns.countplot(x='Survived', data=df);\n",
    "\n"
   ]
  },
  {
   "attachments": {},
   "cell_type": "markdown",
   "id": "ae523afb",
   "metadata": {},
   "source": [
    "### Build baseline model: majority class classifier"
   ]
  },
  {
   "cell_type": "code",
   "execution_count": 7,
   "id": "ab6dc835",
   "metadata": {},
   "outputs": [
    {
     "data": {
      "text/plain": [
       "0.6161616161616161"
      ]
     },
     "execution_count": 7,
     "metadata": {},
     "output_type": "execute_result"
    }
   ],
   "source": [
    "from sklearn.metrics import accuracy_score\n",
    "df['model_1'] = 0\n",
    "accuracy_score(df['Survived'], df['model_1'])"
   ]
  },
  {
   "attachments": {},
   "cell_type": "markdown",
   "id": "b35e23c4",
   "metadata": {},
   "source": [
    "### Write the flow, yo!"
   ]
  },
  {
   "cell_type": "code",
   "execution_count": 8,
   "id": "8ed57924",
   "metadata": {},
   "outputs": [
    {
     "name": "stdout",
     "output_type": "stream",
     "text": [
      "Overwriting ../flows/local/titanic_flow_1.py\n"
     ]
    }
   ],
   "source": [
    "%%writefile ../flows/local/titanic_flow_1.py\n",
    "\n",
    "from metaflow import FlowSpec, step, card\n",
    "\n",
    "\n",
    "class TFlow1(FlowSpec):\n",
    "    \"\"\"\n",
    "    train a boosted tree\n",
    "    \"\"\"\n",
    "    @card\n",
    "    @step\n",
    "    def start(self):\n",
    "        \"\"\"\n",
    "        Load the data & train model\n",
    "        \"\"\"\n",
    "        import pandas as pd\n",
    "        self.df = pd.read_csv('../data/titanic.csv')\n",
    "        self.next(self.predict)\n",
    "        \n",
    "    @step\n",
    "    def predict(self):\n",
    "        \"\"\"\n",
    "        make predictions\n",
    "        \"\"\"\n",
    "        import pandas as pd\n",
    "        from sklearn.metrics import accuracy_score\n",
    "        self.df['model_1'] = 0\n",
    "        self.score1 = accuracy_score(self.df['Survived'], self.df['model_1'])\n",
    "\n",
    "\n",
    "        self.next(self.end)\n",
    "        \n",
    "        \n",
    "    @step\n",
    "    def end(self):\n",
    "        \"\"\"\n",
    "        End of flow!\n",
    "        \"\"\"\n",
    "        print('Score = %s' % self.score1)\n",
    "\n",
    "\n",
    "if __name__ == \"__main__\":\n",
    "    TFlow1()"
   ]
  },
  {
   "cell_type": "code",
   "execution_count": 9,
   "id": "64c5d871",
   "metadata": {},
   "outputs": [
    {
     "name": "stdout",
     "output_type": "stream",
     "text": [
      "\u001b[35m\u001b[1mMetaflow 2.7.21.4\u001b[0m\u001b[35m\u001b[22m executing \u001b[0m\u001b[31m\u001b[1mTFlow1\u001b[0m\u001b[35m\u001b[22m\u001b[0m\u001b[35m\u001b[22m for \u001b[0m\u001b[31m\u001b[1muser:sandbox\u001b[0m\u001b[35m\u001b[22m\u001b[K\u001b[0m\u001b[35m\u001b[22m\u001b[0m\n",
      "\u001b[35m\u001b[22mValidating your flow...\u001b[K\u001b[0m\u001b[35m\u001b[22m\u001b[0m\n",
      "\u001b[32m\u001b[1m    The graph looks good!\u001b[K\u001b[0m\u001b[32m\u001b[1m\u001b[0m\n",
      "\u001b[35m\u001b[22mRunning pylint...\u001b[K\u001b[0m\u001b[35m\u001b[22m\u001b[0m\n",
      "\u001b[32m\u001b[1m    Pylint is happy!\u001b[K\u001b[0m\u001b[32m\u001b[1m\u001b[0m\n",
      "\u001b[35m2023-05-01 02:44:35.894 \u001b[0m\u001b[1mWorkflow starting (run-id 3), see it in the UI at https://ui-pw-789711110.outerbounds.dev/TFlow1/3\u001b[0m\n",
      "\u001b[35m2023-05-01 02:44:36.133 \u001b[0m\u001b[32m[3/start/18 (pid 1984)] \u001b[0m\u001b[1mTask is starting.\u001b[0m\n",
      "\u001b[35m2023-05-01 02:44:41.882 \u001b[0m\u001b[32m[3/start/18 (pid 1984)] \u001b[0m\u001b[1mTask finished successfully.\u001b[0m\n",
      "\u001b[35m2023-05-01 02:44:42.163 \u001b[0m\u001b[32m[3/predict/19 (pid 2089)] \u001b[0m\u001b[1mTask is starting.\u001b[0m\n",
      "\u001b[35m2023-05-01 02:44:45.725 \u001b[0m\u001b[32m[3/predict/19 (pid 2089)] \u001b[0m\u001b[1mTask finished successfully.\u001b[0m\n",
      "\u001b[35m2023-05-01 02:44:46.030 \u001b[0m\u001b[32m[3/end/20 (pid 2154)] \u001b[0m\u001b[1mTask is starting.\u001b[0m\n",
      "\u001b[35m2023-05-01 02:44:47.569 \u001b[0m\u001b[32m[3/end/20 (pid 2154)] \u001b[0m\u001b[22mScore = 0.6161616161616161\u001b[0m\n",
      "\u001b[35m2023-05-01 02:44:48.552 \u001b[0m\u001b[32m[3/end/20 (pid 2154)] \u001b[0m\u001b[1mTask finished successfully.\u001b[0m\n",
      "\u001b[35m2023-05-01 02:44:48.704 \u001b[0m\u001b[1mDone! See the run in the UI at https://ui-pw-789711110.outerbounds.dev/TFlow1/3\u001b[0m\n"
     ]
    }
   ],
   "source": [
    "! python ../flows/local/titanic_flow_1.py run"
   ]
  },
  {
   "cell_type": "markdown",
   "id": "b1d8854e",
   "metadata": {},
   "source": [
    "## A Reminder on Why We're Doing This"
   ]
  },
  {
   "cell_type": "markdown",
   "id": "07fd2369",
   "metadata": {},
   "source": [
    "As there is significant overhead in doing this work, let's be explicit as to the benifits:\n",
    "- Notebooks are great when you want to tell a concise linear narrative as a single article. That’s why they are so great for teaching and learning. However, real-world applications tend to be non-linear, so it is better to structure the project as an explicit DAG which makes it more understandable for humans and more easily executable by computers.\n",
    "- A superpower of DAGs is that if you have parallel branches in your DAG, computer can execute them in parallel automatically, making your project finish much faster without you having to change much anything.\n",
    "- This means that you can e.g. train 200 models - one for each country of the world in parallel, even using multiple computers - which would be impossible to do in a notebook.\n",
    "- It is much easier to take a workflow, which is a proper Python project, to production than a notebook, in particular when using a project like Metaflow that integrates with modern workflow schedulers and compute platforms like Kubernetes. This will make engineers happy."
   ]
  },
  {
   "attachments": {},
   "cell_type": "markdown",
   "id": "4b756922-edf6-44d9-8994-e4414ceb290a",
   "metadata": {},
   "source": [
    "## MORE MATERIAL: Time to Write a Metaflow Flow -- Orchestrating Random Forests"
   ]
  },
  {
   "attachments": {},
   "cell_type": "markdown",
   "id": "b8ebaf4f-7e2c-4c1c-aa62-9a045c9275e7",
   "metadata": {},
   "source": [
    "In this section, we'll turn the following random forest into a flow:\n",
    "\n"
   ]
  },
  {
   "cell_type": "markdown",
   "id": "937f8503-5a93-4643-a378-347fd1637525",
   "metadata": {},
   "source": [
    "```\n",
    "#Import scikit-learn dataset library\n",
    "from sklearn import datasets\n",
    "from sklearn.model_selection import cross_val_score\n",
    "from sklearn.ensemble import RandomForestClassifier\n",
    "\n",
    "#Load dataset\n",
    "iris = datasets.load_iris()\n",
    "X = iris.data\n",
    "y = iris.target\n",
    "\n",
    "clf_rf = RandomForestClassifier(n_estimators=10, max_depth=None,\n",
    "    min_samples_split=2, random_state=0)\n",
    "scores_rf = cross_val_score(clf_rf, X, y, cv=5)\n",
    "print(scores_rf)\n",
    "```"
   ]
  },
  {
   "cell_type": "markdown",
   "id": "044535b1-c653-41e4-a2ef-94c51997a53b",
   "metadata": {},
   "source": [
    "In order to turn this into a (Metaflow) flow, you first need to decide what your steps are going to be. In this case, we’ll have distinct steps to \n",
    "\n",
    "* Load the data\n",
    "* Instantiate the model\n",
    "* Train the model and perform cross-validation\n",
    "\n",
    "In general, this involves some design choices on the user’s part and we have some general rules of thumb [here](https://docs.metaflow.org/metaflow/basics).\n",
    "\n",
    "\n",
    "\n",
    "\n",
    "\n",
    "To then write your flow, you\n",
    "\n",
    "* Import `FlowSpec` and `step` outside your flow\n",
    "* Include step-specific imports within each step\n",
    "* Assign any data structures you wish to pass between steps to self\n",
    "\n",
    "\n",
    "\n"
   ]
  },
  {
   "cell_type": "code",
   "execution_count": 10,
   "id": "e5a864d3-32ad-4841-a684-66a53c3c4a95",
   "metadata": {},
   "outputs": [
    {
     "name": "stdout",
     "output_type": "stream",
     "text": [
      "Overwriting ../flows/local/rf_flow.py\n"
     ]
    }
   ],
   "source": [
    "%%writefile ../flows/local/rf_flow.py\n",
    "\n",
    "from metaflow import FlowSpec, step, card\n",
    "\n",
    "class RF_Flow(FlowSpec):\n",
    "    \"\"\"\n",
    "    train a random forest\n",
    "    \"\"\"\n",
    "    @card \n",
    "    @step\n",
    "    def start(self):\n",
    "        \"\"\"\n",
    "        Load the data\n",
    "        \"\"\"\n",
    "        #Import scikit-learn dataset library\n",
    "        from sklearn import datasets\n",
    "\n",
    "        #Load dataset\n",
    "        self.iris = datasets.load_iris()\n",
    "        self.X = self.iris['data']\n",
    "        self.y = self.iris['target']\n",
    "        self.next(self.rf_model)\n",
    "        \n",
    "\n",
    "    @step\n",
    "    def rf_model(self):\n",
    "        \"\"\"\n",
    "        build random forest model\n",
    "        \"\"\"\n",
    "        from sklearn.ensemble import RandomForestClassifier\n",
    "        \n",
    "        self.clf = RandomForestClassifier(n_estimators=10, max_depth=None,\n",
    "            min_samples_split=2, random_state=0)\n",
    "        self.next(self.train)\n",
    "\n",
    "        \n",
    "        \n",
    "    @step\n",
    "    def train(self):\n",
    "        \"\"\"\n",
    "        Train the model\n",
    "        \"\"\"\n",
    "        from sklearn.model_selection import cross_val_score\n",
    "        self.scores = cross_val_score(self.clf, self.X, self.y, cv=5)\n",
    "        self.next(self.end)\n",
    "        \n",
    "        \n",
    "    @step\n",
    "    def end(self):\n",
    "        \"\"\"\n",
    "        End of flow!\n",
    "        \"\"\"\n",
    "        print(\"RF_Flow is all done.\")\n",
    "\n",
    "\n",
    "if __name__ == \"__main__\":\n",
    "    RF_Flow()"
   ]
  },
  {
   "cell_type": "markdown",
   "id": "c7703623-d4cb-4641-81f1-19ddb43c6fb0",
   "metadata": {},
   "source": [
    "Execute the above from the command line with\n",
    "\n",
    "```bash\n",
    "python flows/local/rf_flow.py run\n",
    "```"
   ]
  },
  {
   "cell_type": "markdown",
   "id": "53459547-9b72-4eec-944e-71db6517faa0",
   "metadata": {},
   "source": [
    "We can check out the Metaflow card:"
   ]
  },
  {
   "cell_type": "markdown",
   "id": "e643169f-154d-4cee-a855-1e02db08cf9c",
   "metadata": {},
   "source": [
    "```\n",
    "python flows/local/rf_flow.py card view start\n",
    "```"
   ]
  },
  {
   "cell_type": "markdown",
   "id": "a2dd4a43-3ea3-43f5-9d2f-c96ee7d18bb3",
   "metadata": {},
   "source": [
    "## Boosted Trees Flow"
   ]
  },
  {
   "attachments": {},
   "cell_type": "markdown",
   "id": "a37b27a2-f26c-471d-8164-598ed7d4cfb0",
   "metadata": {},
   "source": [
    "In this section, we'll turn the an XGBoost example into a flow:"
   ]
  },
  {
   "cell_type": "code",
   "execution_count": 11,
   "id": "6e0b86aa-498d-474f-bde4-1e183b5dd7a7",
   "metadata": {},
   "outputs": [
    {
     "name": "stdout",
     "output_type": "stream",
     "text": [
      "Overwriting ../flows/local/boosted_flow.py\n"
     ]
    }
   ],
   "source": [
    "%%writefile ../flows/local/boosted_flow.py\n",
    "\n",
    "from metaflow import FlowSpec, step, card\n",
    "\n",
    "\n",
    "class BSTFlow(FlowSpec):\n",
    "    \"\"\"\n",
    "    train a boosted tree\n",
    "    \"\"\"\n",
    "    @card\n",
    "    @step\n",
    "    def start(self):\n",
    "        \"\"\"\n",
    "        Load the data & train model\n",
    "        \"\"\"\n",
    "        import xgboost as xgb\n",
    "        dtrain = xgb.DMatrix('data/agaricus.txt.train')\n",
    "        param = {'max_depth':2, 'eta':1, 'objective':'binary:logistic','eval_metric':'logloss'}\n",
    "        num_round = 2\n",
    "        bst = xgb.train(param, dtrain, num_round)\n",
    "        bst.save_model(\"model.json\")\n",
    "        self.next(self.predict)\n",
    "        \n",
    "    @step\n",
    "    def predict(self):\n",
    "        \"\"\"\n",
    "        make predictions\n",
    "        \"\"\"\n",
    "        import xgboost as xgb\n",
    "\n",
    "        dtest = xgb.DMatrix('data/agaricus.txt.test')\n",
    "        # make prediction\n",
    "        bst = xgb.Booster()\n",
    "        bst.load_model(\"model.json\")\n",
    "        preds = bst.predict(dtest)\n",
    "        self.next(self.end)\n",
    "        \n",
    "        \n",
    "    @step\n",
    "    def end(self):\n",
    "        \"\"\"\n",
    "        End of flow!\n",
    "        \"\"\"\n",
    "        print(\"BSTFlow is all done.\")\n",
    "\n",
    "\n",
    "if __name__ == \"__main__\":\n",
    "    BSTFlow()"
   ]
  },
  {
   "cell_type": "markdown",
   "id": "83a1fce4-47cd-4c23-b770-7af10f785aee",
   "metadata": {},
   "source": [
    "Execute the above from the command line with\n",
    "\n",
    "```bash\n",
    "python flows/local/boosted_flow.py run\n",
    "```"
   ]
  },
  {
   "cell_type": "markdown",
   "id": "f757332f-b475-4e42-b546-c97a75068fc9",
   "metadata": {},
   "source": [
    "## Your First Deep Learning Metaflow!"
   ]
  },
  {
   "attachments": {},
   "cell_type": "markdown",
   "id": "3e95df17-f187-4d4f-ad2e-894898f9b9b0",
   "metadata": {},
   "source": [
    "In this section, you'll turn a deep learning example above into a flow.\n",
    "\n",
    "**HANDS-ON:** Complete the following flow so that it builds a Keras neural network."
   ]
  },
  {
   "cell_type": "code",
   "execution_count": 12,
   "id": "92adeacf-5396-42d0-bed2-32a8a9763d1e",
   "metadata": {},
   "outputs": [
    {
     "name": "stdout",
     "output_type": "stream",
     "text": [
      "Overwriting ../flows/local/NN_flow_student.py\n"
     ]
    }
   ],
   "source": [
    "%%writefile ../flows/local/NN_flow_student.py\n",
    "\n",
    "from metaflow import FlowSpec, step, Parameter, JSONType, IncludeFile, card\n",
    "from taxi_modules import init, MODELS, MODEL_LIBRARIES\n",
    "import json\n",
    "\n",
    "\n",
    "class NNFlow(FlowSpec):\n",
    "    \"\"\"\n",
    "    train a NN\n",
    "    \"\"\"\n",
    "    @card\n",
    "    @step\n",
    "    def start(self):\n",
    "        \"\"\"\n",
    "        Load the data\n",
    "        \"\"\"\n",
    "        from tensorflow import keras\n",
    "\n",
    "        # the data, split between train and test sets\n",
    "        (self.x_train, self.y_train), (self.x_test, self.y_test) = keras.datasets.mnist.load_data()\n",
    "        self.next(self.wrangle)\n",
    "        \n",
    "    @step\n",
    "    def wrangle(self):\n",
    "        \"\"\"\n",
    "        massage data\n",
    "        \"\"\"\n",
    "        import numpy as np\n",
    "        from tensorflow import keras\n",
    "        # Model / data parameters\n",
    "        self.num_classes = 10\n",
    "        self.input_shape = (28, 28, 1)\n",
    "\n",
    "        # Scale images to the [0, 1] range\n",
    "        self.x_train = self.x_train.astype(\"float32\") / 255\n",
    "        self.x_test = self.x_test.astype(\"float32\") / 255\n",
    "        # Make sure images have shape (28, 28, 1)\n",
    "        self.x_train = np.expand_dims(self.x_train, -1)\n",
    "        self.x_test = np.expand_dims(self.x_test, -1)\n",
    "\n",
    "        # convert class vectors to binary class matrices\n",
    "        self.y_train = keras.utils.to_categorical(self.y_train, self.num_classes)\n",
    "        self.y_test = keras.utils.to_categorical(self.y_test, self.num_classes)\n",
    "        \n",
    "        self.next(self.build_model)\n",
    "\n",
    "\n",
    "    @step\n",
    "    def build_model(self):\n",
    "        \"\"\"\n",
    "        build NN model\n",
    "        \"\"\"\n",
    "        import tempfile\n",
    "        import numpy as np\n",
    "        import tensorflow as tf\n",
    "        from tensorflow import keras\n",
    "        from tensorflow.keras import layers\n",
    "\n",
    "        model = keras.Sequential(\n",
    "            [\n",
    "                keras.Input(shape=self.input_shape),\n",
    "                layers.Conv2D(32, kernel_size=(3, 3), activation=\"relu\"),\n",
    "                layers.MaxPooling2D(pool_size=(2, 2)),\n",
    "                layers.Conv2D(64, kernel_size=(3, 3), activation=\"relu\"),\n",
    "                layers.MaxPooling2D(pool_size=(2, 2)),\n",
    "                layers.Flatten(),\n",
    "                layers.Dropout(0.5),\n",
    "                layers.Dense(self.num_classes, activation=\"softmax\"),\n",
    "            ]\n",
    "        )\n",
    "        model.compile(loss=\"categorical_crossentropy\", optimizer=\"adam\", metrics=[\"accuracy\"])\n",
    "        with tempfile.NamedTemporaryFile() as f:\n",
    "            tf.keras.models.save_model(model, f.name, save_format='h5')\n",
    "            self.model = f.read()\n",
    "        self.next(self.train)\n",
    "\n",
    "        \n",
    "        \n",
    "    @step\n",
    "    def train(self):\n",
    "        \"\"\"\n",
    "        Train the model\n",
    "        \"\"\"\n",
    "        import tempfile\n",
    "        import tensorflow as tf\n",
    "        self.batch_size = 128\n",
    "        self.epochs = 15\n",
    "        \n",
    "        with tempfile.NamedTemporaryFile() as f:\n",
    "            f.write(self.model)\n",
    "            f.flush()\n",
    "            model =  tf.keras.models.load_model(f.name)\n",
    "        model.fit(self.x_train, self.y_train, batch_size=self.batch_size, epochs=self.epochs, validation_split=0.1)\n",
    "        \n",
    "        self.next(self.end)\n",
    "        \n",
    "        \n",
    "    @step\n",
    "    def end(self):\n",
    "        \"\"\"\n",
    "        End of flow!\n",
    "        \"\"\"\n",
    "        print(\"NNFlow is all done.\")\n",
    "\n",
    "\n",
    "if __name__ == \"__main__\":\n",
    "    NNFlow()"
   ]
  },
  {
   "attachments": {},
   "cell_type": "markdown",
   "id": "68bf1b5f-d6b9-4b89-be19-b3d22a5db0bd",
   "metadata": {},
   "source": [
    "## **TODO: replace this with card viewer instructions**\n",
    "\n",
    "Execute the above from the command line with\n",
    "\n",
    "```bash\n",
    "python flows/local/NN_flow_student.py run\n",
    "```"
   ]
  },
  {
   "cell_type": "markdown",
   "id": "8f9d4468-2e0b-4110-9cad-c7ee2ce1a55c",
   "metadata": {},
   "source": [
    "We can also view the Metaflow card:"
   ]
  },
  {
   "attachments": {},
   "cell_type": "markdown",
   "id": "daf0c095-5a8c-4e3e-b205-f98649d0d4fa",
   "metadata": {},
   "source": [
    "```\n",
    "python flows/local/NN_flow_student.py card view start\n",
    "```"
   ]
  },
  {
   "attachments": {},
   "cell_type": "markdown",
   "id": "359072d7-d77e-465c-b110-adffe7c85445",
   "metadata": {},
   "source": [
    "## Lesson Recap\n",
    "\n",
    "[TBD]"
   ]
  }
 ],
 "metadata": {
  "kernelspec": {
   "display_name": "full-stack-metaflow",
   "language": "python",
   "name": "python3"
  },
  "language_info": {
   "codemirror_mode": {
    "name": "ipython",
    "version": 3
   },
   "file_extension": ".py",
   "mimetype": "text/x-python",
   "name": "python",
   "nbconvert_exporter": "python",
   "pygments_lexer": "ipython3",
   "version": "3.8.15"
  },
  "vscode": {
   "interpreter": {
    "hash": "c1a581eac4486d7bf57007da814b44afba891645862cabc69b88c8c2839396bc"
   }
  }
 },
 "nbformat": 4,
 "nbformat_minor": 5
}
